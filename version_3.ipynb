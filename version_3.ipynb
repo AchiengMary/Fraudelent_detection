{
  "nbformat": 4,
  "nbformat_minor": 0,
  "metadata": {
    "colab": {
      "provenance": [],
      "authorship_tag": "ABX9TyMqikbrWOF56myE+AnBBvHq",
      "include_colab_link": true
    },
    "kernelspec": {
      "name": "python3",
      "display_name": "Python 3"
    },
    "language_info": {
      "name": "python"
    }
  },
  "cells": [
    {
      "cell_type": "markdown",
      "metadata": {
        "id": "view-in-github",
        "colab_type": "text"
      },
      "source": [
        "<a href=\"https://colab.research.google.com/github/AchiengMary/Fraudelent_detection/blob/main/version_3.ipynb\" target=\"_parent\"><img src=\"https://colab.research.google.com/assets/colab-badge.svg\" alt=\"Open In Colab\"/></a>"
      ]
    },
    {
      "cell_type": "code",
      "execution_count": 1,
      "metadata": {
        "colab": {
          "base_uri": "https://localhost:8080/"
        },
        "id": "wGLuS6jUKul_",
        "outputId": "eb109178-c0aa-4d8c-efe2-28e14d71d8d0"
      },
      "outputs": [
        {
          "output_type": "stream",
          "name": "stdout",
          "text": [
            "sample_data  SampleSubmission.csv  test.zip  train.zip\n"
          ]
        }
      ],
      "source": [
        "!ls"
      ]
    },
    {
      "cell_type": "code",
      "source": [
        "!unzip \"train.zip\" -d \"/content/train/\"\n",
        "!unzip \"test.zip\" -d \"/content/test/\""
      ],
      "metadata": {
        "colab": {
          "base_uri": "https://localhost:8080/"
        },
        "id": "hGR8onh5LSy3",
        "outputId": "f5a117d9-4827-45c0-b56b-0936d333f5cf"
      },
      "execution_count": 2,
      "outputs": [
        {
          "output_type": "stream",
          "name": "stdout",
          "text": [
            "Archive:  train.zip\n",
            "  inflating: /content/train/client_train.csv  \n",
            "  inflating: /content/train/invoice_train.csv  \n",
            "Archive:  test.zip\n",
            "  inflating: /content/test/client_test.csv  \n",
            "  inflating: /content/test/invoice_test.csv  \n"
          ]
        }
      ]
    },
    {
      "cell_type": "code",
      "source": [
        "!ls /content/train/\n",
        "!ls /content/test/"
      ],
      "metadata": {
        "colab": {
          "base_uri": "https://localhost:8080/"
        },
        "id": "kOcnDaGiLWBc",
        "outputId": "767b0d0b-c1c4-438b-a507-ab1cc8275d20"
      },
      "execution_count": 3,
      "outputs": [
        {
          "output_type": "stream",
          "name": "stdout",
          "text": [
            "client_train.csv  invoice_train.csv\n",
            "client_test.csv  invoice_test.csv\n"
          ]
        }
      ]
    },
    {
      "cell_type": "code",
      "source": [
        "import pandas as pd\n",
        "import numpy as np"
      ],
      "metadata": {
        "id": "ZNhQ8BPpLYts"
      },
      "execution_count": 4,
      "outputs": []
    },
    {
      "cell_type": "code",
      "source": [
        "# Training data\n",
        "client_train = pd.read_csv('/content/train/client_train.csv')\n",
        "invoice_train = pd.read_csv('/content/train/invoice_train.csv')\n",
        "\n",
        "# Testing data\n",
        "client_test = pd.read_csv('/content/test/client_test.csv')\n",
        "invoice_test = pd.read_csv('/content/test/invoice_test.csv')\n",
        "\n",
        "submission_data = pd.read_csv('/content/SampleSubmission.csv')\n",
        "\n",
        "# Preview data\n",
        "print(\"Client Train Data Preview:\\n\", client_train.head())\n",
        "print(\"Invoice Train Data Preview:\\n\", invoice_train.head())\n",
        "print(\"Client Test Data Preview:\\n\", client_test.head())\n",
        "print(\"Invoice Test Data Preview:\\n\", invoice_test.head())\n",
        "print(\"Submission Data Preview:\\n\", submission_data.head())"
      ],
      "metadata": {
        "colab": {
          "base_uri": "https://localhost:8080/"
        },
        "id": "KhBZ_DkILf8t",
        "outputId": "72c31365-0775-457b-aa6d-61748932832b"
      },
      "execution_count": 5,
      "outputs": [
        {
          "output_type": "stream",
          "name": "stderr",
          "text": [
            "<ipython-input-5-cea88d97fe57>:3: DtypeWarning: Columns (4) have mixed types. Specify dtype option on import or set low_memory=False.\n",
            "  invoice_train = pd.read_csv('/content/train/invoice_train.csv')\n"
          ]
        },
        {
          "output_type": "stream",
          "name": "stdout",
          "text": [
            "Client Train Data Preview:\n",
            "    disrict          client_id  client_catg  region creation_date  target\n",
            "0       60     train_Client_0           11     101    31/12/1994     0.0\n",
            "1       69     train_Client_1           11     107    29/05/2002     0.0\n",
            "2       62    train_Client_10           11     301    13/03/1986     0.0\n",
            "3       69   train_Client_100           11     105    11/07/1996     0.0\n",
            "4       62  train_Client_1000           11     303    14/10/2014     0.0\n",
            "Invoice Train Data Preview:\n",
            "         client_id invoice_date  tarif_type  counter_number counter_statue  \\\n",
            "0  train_Client_0   2014-03-24          11         1335667              0   \n",
            "1  train_Client_0   2013-03-29          11         1335667              0   \n",
            "2  train_Client_0   2015-03-23          11         1335667              0   \n",
            "3  train_Client_0   2015-07-13          11         1335667              0   \n",
            "4  train_Client_0   2016-11-17          11         1335667              0   \n",
            "\n",
            "   counter_code  reading_remarque  counter_coefficient  consommation_level_1  \\\n",
            "0           203                 8                    1                    82   \n",
            "1           203                 6                    1                  1200   \n",
            "2           203                 8                    1                   123   \n",
            "3           207                 8                    1                   102   \n",
            "4           207                 9                    1                   572   \n",
            "\n",
            "   consommation_level_2  consommation_level_3  consommation_level_4  \\\n",
            "0                     0                     0                     0   \n",
            "1                   184                     0                     0   \n",
            "2                     0                     0                     0   \n",
            "3                     0                     0                     0   \n",
            "4                     0                     0                     0   \n",
            "\n",
            "   old_index  new_index  months_number counter_type  \n",
            "0      14302      14384              4         ELEC  \n",
            "1      12294      13678              4         ELEC  \n",
            "2      14624      14747              4         ELEC  \n",
            "3      14747      14849              4         ELEC  \n",
            "4      15066      15638             12         ELEC  \n",
            "Client Test Data Preview:\n",
            "    disrict         client_id  client_catg  region creation_date\n",
            "0       62     test_Client_0           11     307    28/05/2002\n",
            "1       69     test_Client_1           11     103    06/08/2009\n",
            "2       62    test_Client_10           11     310    07/04/2004\n",
            "3       60   test_Client_100           11     101    08/10/1992\n",
            "4       62  test_Client_1000           11     301    21/07/1977\n",
            "Invoice Test Data Preview:\n",
            "        client_id invoice_date  tarif_type  counter_number  counter_statue  \\\n",
            "0  test_Client_0   2018-03-16          11          651208               0   \n",
            "1  test_Client_0   2014-03-21          11          651208               0   \n",
            "2  test_Client_0   2014-07-17          11          651208               0   \n",
            "3  test_Client_0   2015-07-13          11          651208               0   \n",
            "4  test_Client_0   2016-07-19          11          651208               0   \n",
            "\n",
            "   counter_code  reading_remarque  counter_coefficient  consommation_level_1  \\\n",
            "0           203                 8                    1                   755   \n",
            "1           203                 8                    1                  1067   \n",
            "2           203                 8                    1                     0   \n",
            "3           203                 9                    1                   410   \n",
            "4           203                 9                    1                   412   \n",
            "\n",
            "   consommation_level_2  consommation_level_3  consommation_level_4  \\\n",
            "0                     0                     0                     0   \n",
            "1                     0                     0                     0   \n",
            "2                     0                     0                     0   \n",
            "3                     0                     0                     0   \n",
            "4                     0                     0                     0   \n",
            "\n",
            "   old_index  new_index  months_number counter_type  \n",
            "0      19145      19900              8         ELEC  \n",
            "1      13725      14792              8         ELEC  \n",
            "2      14792      14792              4         ELEC  \n",
            "3      16122      16532              4         ELEC  \n",
            "4      17471      17883              4         ELEC  \n",
            "Submission Data Preview:\n",
            "           client_id    target\n",
            "0     test_Client_0  0.957281\n",
            "1     test_Client_1  0.996425\n",
            "2    test_Client_10  0.612359\n",
            "3   test_Client_100  0.776933\n",
            "4  test_Client_1000  0.571046\n"
          ]
        }
      ]
    },
    {
      "cell_type": "code",
      "source": [
        "print(\"Client Train Shape:\", client_train.shape)\n",
        "print(\"Invoice Train Shape:\", invoice_train.shape)\n",
        "print(\"Client Test Shape:\", client_test.shape)\n",
        "print(\"Invoice Test Shape:\", invoice_test.shape)"
      ],
      "metadata": {
        "colab": {
          "base_uri": "https://localhost:8080/"
        },
        "id": "M3sDE3KILluu",
        "outputId": "4e3486fc-7a0a-4d3b-ce2f-bdc3bafa86bc"
      },
      "execution_count": 6,
      "outputs": [
        {
          "output_type": "stream",
          "name": "stdout",
          "text": [
            "Client Train Shape: (135493, 6)\n",
            "Invoice Train Shape: (4476749, 16)\n",
            "Client Test Shape: (58069, 5)\n",
            "Invoice Test Shape: (1939730, 16)\n"
          ]
        }
      ]
    },
    {
      "cell_type": "code",
      "source": [
        "print(\"Missing Values in Client Train:\\n\", client_train.isnull().sum())\n",
        "print(\"Missing Values in Invoice Train:\\n\", invoice_train.isnull().sum())\n",
        "print(\"Missing Values in Client Test:\\n\", client_test.isnull().sum())\n",
        "print(\"Missing Values in Invoice Test:\\n\", invoice_test.isnull().sum())"
      ],
      "metadata": {
        "colab": {
          "base_uri": "https://localhost:8080/"
        },
        "id": "kYsutjImLspk",
        "outputId": "2d788bf8-bb90-404f-9c81-d08d523c2498"
      },
      "execution_count": 7,
      "outputs": [
        {
          "output_type": "stream",
          "name": "stdout",
          "text": [
            "Missing Values in Client Train:\n",
            " disrict          0\n",
            "client_id        0\n",
            "client_catg      0\n",
            "region           0\n",
            "creation_date    0\n",
            "target           0\n",
            "dtype: int64\n",
            "Missing Values in Invoice Train:\n",
            " client_id               0\n",
            "invoice_date            0\n",
            "tarif_type              0\n",
            "counter_number          0\n",
            "counter_statue          0\n",
            "counter_code            0\n",
            "reading_remarque        0\n",
            "counter_coefficient     0\n",
            "consommation_level_1    0\n",
            "consommation_level_2    0\n",
            "consommation_level_3    0\n",
            "consommation_level_4    0\n",
            "old_index               0\n",
            "new_index               0\n",
            "months_number           0\n",
            "counter_type            0\n",
            "dtype: int64\n",
            "Missing Values in Client Test:\n",
            " disrict          0\n",
            "client_id        0\n",
            "client_catg      0\n",
            "region           0\n",
            "creation_date    0\n",
            "dtype: int64\n",
            "Missing Values in Invoice Test:\n",
            " client_id               0\n",
            "invoice_date            0\n",
            "tarif_type              0\n",
            "counter_number          0\n",
            "counter_statue          0\n",
            "counter_code            0\n",
            "reading_remarque        0\n",
            "counter_coefficient     0\n",
            "consommation_level_1    0\n",
            "consommation_level_2    0\n",
            "consommation_level_3    0\n",
            "consommation_level_4    0\n",
            "old_index               0\n",
            "new_index               0\n",
            "months_number           0\n",
            "counter_type            0\n",
            "dtype: int64\n"
          ]
        }
      ]
    },
    {
      "cell_type": "code",
      "source": [
        "print(\"Client Train Data Types:\\n\", client_train.dtypes)\n",
        "print(\"Invoice Train Data Types:\\n\", invoice_train.dtypes)"
      ],
      "metadata": {
        "colab": {
          "base_uri": "https://localhost:8080/"
        },
        "id": "vU7JhOH0LwlW",
        "outputId": "c4ee15fc-9e1b-4a43-89cf-2097c35b8342"
      },
      "execution_count": 8,
      "outputs": [
        {
          "output_type": "stream",
          "name": "stdout",
          "text": [
            "Client Train Data Types:\n",
            " disrict            int64\n",
            "client_id         object\n",
            "client_catg        int64\n",
            "region             int64\n",
            "creation_date     object\n",
            "target           float64\n",
            "dtype: object\n",
            "Invoice Train Data Types:\n",
            " client_id               object\n",
            "invoice_date            object\n",
            "tarif_type               int64\n",
            "counter_number           int64\n",
            "counter_statue          object\n",
            "counter_code             int64\n",
            "reading_remarque         int64\n",
            "counter_coefficient      int64\n",
            "consommation_level_1     int64\n",
            "consommation_level_2     int64\n",
            "consommation_level_3     int64\n",
            "consommation_level_4     int64\n",
            "old_index                int64\n",
            "new_index                int64\n",
            "months_number            int64\n",
            "counter_type            object\n",
            "dtype: object\n"
          ]
        }
      ]
    }
  ]
}